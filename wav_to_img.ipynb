{
 "cells": [
  {
   "cell_type": "code",
   "execution_count": 1,
   "metadata": {
    "collapsed": true
   },
   "outputs": [],
   "source": [
    "import os\n",
    "import sys\n",
    "import glob\n",
    "import tqdm\n",
    "import random\n",
    "import librosa\n",
    "import numpy as np\n",
    "import pandas as pd\n",
    "import librosa.display\n",
    "import IPython.display as ipd\n",
    "from tqdm import tqdm_notebook\n",
    "from matplotlib import patches\n",
    "from matplotlib import pyplot as plt\n",
    "from pydub import AudioSegment\n",
    "from pydub.playback import play\n",
    "import warnings\n",
    "warnings.filterwarnings('ignore')"
   ]
  },
  {
   "cell_type": "code",
   "execution_count": 2,
   "metadata": {
    "collapsed": true
   },
   "outputs": [],
   "source": [
    "def load_audio_file(file_path):\n",
    "    data = librosa.core.load(file_path)[0]\n",
    "    return data\n",
    "\n",
    "def plot_time_series(data):\n",
    "    fig = plt.figure(figsize=(14, 8))\n",
    "    plt.title('Raw wave')\n",
    "    plt.ylabel('Amplitude')\n",
    "    plt.plot(np.linspace(0, 1, len(data)), data)\n",
    "    plt.show()"
   ]
  },
  {
   "cell_type": "code",
   "execution_count": 3,
   "metadata": {
    "collapsed": true
   },
   "outputs": [],
   "source": [
    "dataset_dir = \"/home/ubuntu/Notebooks/Antispoofing\"\n",
    "train_dataset_dir = os.path.join(dataset_dir, \"audio\")\n",
    "wav_paths = sorted(glob.glob(os.path.join(train_dataset_dir, '**/*.wav'), recursive=True))"
   ]
  },
  {
   "cell_type": "code",
   "execution_count": 18,
   "metadata": {
    "collapsed": true
   },
   "outputs": [],
   "source": [
    "from scipy.io import wavfile\n",
    "\n",
    "def wav_to_img(path):\n",
    "    rate, data = wavfile.read(path)\n",
    "    fig, ax = plt.subplots(1)\n",
    "    fig.subplots_adjust(left=0,right=1,bottom=0,top=1)\n",
    "    pxx, freqs, bins, im = ax.specgram(x=data, Fs=rate)\n",
    "    ax.axis('off')\n",
    "    fig.savefig('audio_img/{}.png'.format(path.split('/')[-1].split('.')[0]), dpi=50, frameon='false')"
   ]
  },
  {
   "cell_type": "code",
   "execution_count": 19,
   "metadata": {},
   "outputs": [
    {
     "data": {
      "application/vnd.jupyter.widget-view+json": {
       "model_id": "b0726ff78024438392382f5d638a5987",
       "version_major": 2,
       "version_minor": 0
      },
      "text/plain": [
       "HBox(children=(IntProgress(value=0, max=8), HTML(value='')))"
      ]
     },
     "metadata": {},
     "output_type": "display_data"
    },
    {
     "name": "stdout",
     "output_type": "stream",
     "text": [
      "\n"
     ]
    }
   ],
   "source": [
    "for path in tqdm_notebook(wav_paths):\n",
    "    wav_to_img(path)    "
   ]
  }
 ],
 "metadata": {
  "kernelspec": {
   "display_name": "Python 3",
   "language": "python",
   "name": "python3"
  },
  "language_info": {
   "codemirror_mode": {
    "name": "ipython",
    "version": 3
   },
   "file_extension": ".py",
   "mimetype": "text/x-python",
   "name": "python",
   "nbconvert_exporter": "python",
   "pygments_lexer": "ipython3",
   "version": "3.6.8"
  }
 },
 "nbformat": 4,
 "nbformat_minor": 2
}
